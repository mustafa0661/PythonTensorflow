{
 "cells": [
  {
   "cell_type": "code",
   "execution_count": 1,
   "id": "cc31c096",
   "metadata": {},
   "outputs": [],
   "source": [
    "benimListem = list()"
   ]
  },
  {
   "cell_type": "code",
   "execution_count": 2,
   "id": "33600fc8",
   "metadata": {},
   "outputs": [
    {
     "data": {
      "text/plain": [
       "list"
      ]
     },
     "execution_count": 2,
     "metadata": {},
     "output_type": "execute_result"
    }
   ],
   "source": [
    "type(benimListem)"
   ]
  },
  {
   "cell_type": "markdown",
   "id": "c2b7d482",
   "metadata": {},
   "source": [
    "## instance & attribute"
   ]
  },
  {
   "cell_type": "code",
   "execution_count": 37,
   "id": "7c08dc4d",
   "metadata": {},
   "outputs": [],
   "source": [
    "class SuperKahraman():\n",
    "    \n",
    "    ozelGuc = \"Gorunmezlik\"\n",
    "    \n",
    "    def __init__(self,isimInput,yasInput,meslekInput):\n",
    "        print(\"init çağrıldı\")\n",
    "        self.isim = isimInput\n",
    "        self.yas = yasInput\n",
    "        self.meslek = meslekInput\n",
    "        \n",
    "    def ornekMethod(self):\n",
    "        print(f\"ben süperkahramanım ve mesleğim: {self.meslek}\")"
   ]
  },
  {
   "cell_type": "code",
   "execution_count": 38,
   "id": "7f5b8031",
   "metadata": {},
   "outputs": [
    {
     "name": "stdout",
     "output_type": "stream",
     "text": [
      "init çağrıldı\n"
     ]
    }
   ],
   "source": [
    "superman = SuperKahraman(\"Superman\",30,\"Gazeteci\")"
   ]
  },
  {
   "cell_type": "code",
   "execution_count": 39,
   "id": "23a0088f",
   "metadata": {},
   "outputs": [
    {
     "data": {
      "text/plain": [
       "'Gazeteci'"
      ]
     },
     "execution_count": 39,
     "metadata": {},
     "output_type": "execute_result"
    }
   ],
   "source": [
    "superman.meslek"
   ]
  },
  {
   "cell_type": "code",
   "execution_count": 40,
   "id": "ef3f252d",
   "metadata": {},
   "outputs": [
    {
     "data": {
      "text/plain": [
       "30"
      ]
     },
     "execution_count": 40,
     "metadata": {},
     "output_type": "execute_result"
    }
   ],
   "source": [
    "superman.yas"
   ]
  },
  {
   "cell_type": "code",
   "execution_count": 41,
   "id": "b3297f90",
   "metadata": {},
   "outputs": [
    {
     "data": {
      "text/plain": [
       "'Gorunmezlik'"
      ]
     },
     "execution_count": 41,
     "metadata": {},
     "output_type": "execute_result"
    }
   ],
   "source": [
    "superman.ozelGuc"
   ]
  },
  {
   "cell_type": "code",
   "execution_count": 42,
   "id": "fa5bcb6c",
   "metadata": {},
   "outputs": [
    {
     "name": "stdout",
     "output_type": "stream",
     "text": [
      "ben süperkahramanım ve mesleğim: Gazeteci\n"
     ]
    }
   ],
   "source": [
    "superman.ornekMethod()"
   ]
  },
  {
   "cell_type": "code",
   "execution_count": 74,
   "id": "b0b82973",
   "metadata": {},
   "outputs": [],
   "source": [
    "class Kopek():\n",
    "    \n",
    "    yilCarpani = 9\n",
    "    \n",
    "    def __init__(self,yas = 5): #default değer\n",
    "        self.yas = yas\n",
    "        self.insanYasinaCevrilmisAttribute = yas * self.yilCarpani\n",
    "        \n",
    "    def yasHesapla(self):\n",
    "        return self.yas * Kopek.yilCarpani #static"
   ]
  },
  {
   "cell_type": "code",
   "execution_count": 75,
   "id": "e0f05db7",
   "metadata": {},
   "outputs": [],
   "source": [
    "benimKopek = Kopek(3)"
   ]
  },
  {
   "cell_type": "code",
   "execution_count": 76,
   "id": "f90a1e6e",
   "metadata": {},
   "outputs": [
    {
     "data": {
      "text/plain": [
       "3"
      ]
     },
     "execution_count": 76,
     "metadata": {},
     "output_type": "execute_result"
    }
   ],
   "source": [
    "benimKopek.yas"
   ]
  },
  {
   "cell_type": "code",
   "execution_count": 77,
   "id": "ccfef817",
   "metadata": {},
   "outputs": [
    {
     "data": {
      "text/plain": [
       "27"
      ]
     },
     "execution_count": 77,
     "metadata": {},
     "output_type": "execute_result"
    }
   ],
   "source": [
    "benimKopek.yasHesapla()"
   ]
  },
  {
   "cell_type": "code",
   "execution_count": 78,
   "id": "a4dab472",
   "metadata": {},
   "outputs": [
    {
     "data": {
      "text/plain": [
       "27"
      ]
     },
     "execution_count": 78,
     "metadata": {},
     "output_type": "execute_result"
    }
   ],
   "source": [
    "benimKopek.insanYasinaCevrilmisAttribute"
   ]
  },
  {
   "cell_type": "markdown",
   "id": "80f3f43e",
   "metadata": {},
   "source": [
    "## inheritance"
   ]
  },
  {
   "cell_type": "code",
   "execution_count": 92,
   "id": "4a42d451",
   "metadata": {},
   "outputs": [],
   "source": [
    "class Hayvan():\n",
    "    def __init__(self):\n",
    "        print(\"hayvan sınıfı init çağırıldı\")\n",
    "        \n",
    "    def method1(self):\n",
    "        print(\"hayvan sınıfı method1\")\n",
    "        \n",
    "    def method2(self):\n",
    "        print(\"hayvan sınıfı method2 çağırıldı\")"
   ]
  },
  {
   "cell_type": "code",
   "execution_count": 93,
   "id": "e7069c20",
   "metadata": {},
   "outputs": [
    {
     "name": "stdout",
     "output_type": "stream",
     "text": [
      "hayvan sınıfı init çağırıldı\n"
     ]
    }
   ],
   "source": [
    "benimHayvanim = Hayvan()"
   ]
  },
  {
   "cell_type": "code",
   "execution_count": 94,
   "id": "75b53d5c",
   "metadata": {},
   "outputs": [
    {
     "name": "stdout",
     "output_type": "stream",
     "text": [
      "hayvan sınıfı method1\n"
     ]
    }
   ],
   "source": [
    "benimHayvanim.method1()"
   ]
  },
  {
   "cell_type": "code",
   "execution_count": 95,
   "id": "06ecaf44",
   "metadata": {},
   "outputs": [
    {
     "name": "stdout",
     "output_type": "stream",
     "text": [
      "hayvan sınıfı method2 çağırıldı\n"
     ]
    }
   ],
   "source": [
    "benimHayvanim.method2()"
   ]
  },
  {
   "cell_type": "code",
   "execution_count": 100,
   "id": "b0ac43df",
   "metadata": {},
   "outputs": [],
   "source": [
    "class Kedi(Hayvan):\n",
    "    def __init__(self):\n",
    "        Hayvan.__init__(self)\n",
    "        print(\"kedi sınıfı init çağırıldı\")\n",
    "    def miyavla(self):\n",
    "        print(\"miyav\")\n",
    "        \n",
    "    def method1(self):\n",
    "        print(\"kedi sınıfındaki method çağırıldı\")"
   ]
  },
  {
   "cell_type": "code",
   "execution_count": 101,
   "id": "301ad9cf",
   "metadata": {},
   "outputs": [
    {
     "name": "stdout",
     "output_type": "stream",
     "text": [
      "hayvan sınıfı init çağırıldı\n",
      "kedi sınıfı init çağırıldı\n"
     ]
    }
   ],
   "source": [
    "benimKedi = Kedi()"
   ]
  },
  {
   "cell_type": "code",
   "execution_count": 102,
   "id": "b28a4781",
   "metadata": {},
   "outputs": [
    {
     "name": "stdout",
     "output_type": "stream",
     "text": [
      "hayvan sınıfı method2 çağırıldı\n"
     ]
    }
   ],
   "source": [
    "benimKedi.method2()"
   ]
  },
  {
   "cell_type": "code",
   "execution_count": 103,
   "id": "7936418d",
   "metadata": {},
   "outputs": [
    {
     "name": "stdout",
     "output_type": "stream",
     "text": [
      "miyav\n"
     ]
    }
   ],
   "source": [
    "benimKedi.miyavla()"
   ]
  },
  {
   "cell_type": "code",
   "execution_count": 105,
   "id": "3f1a35c5",
   "metadata": {},
   "outputs": [
    {
     "name": "stdout",
     "output_type": "stream",
     "text": [
      "kedi sınıfındaki method çağırıldı\n"
     ]
    }
   ],
   "source": [
    "benimKedi.method1()"
   ]
  },
  {
   "cell_type": "code",
   "execution_count": 106,
   "id": "a1503ddd",
   "metadata": {},
   "outputs": [
    {
     "name": "stdout",
     "output_type": "stream",
     "text": [
      "hayvan sınıfı init çağırıldı\n"
     ]
    }
   ],
   "source": [
    "digerHayvan = Hayvan()"
   ]
  },
  {
   "cell_type": "code",
   "execution_count": 107,
   "id": "38e5ff92",
   "metadata": {},
   "outputs": [
    {
     "name": "stdout",
     "output_type": "stream",
     "text": [
      "hayvan sınıfı method1\n"
     ]
    }
   ],
   "source": [
    "digerHayvan.method1() ##override"
   ]
  },
  {
   "cell_type": "markdown",
   "id": "a755a747",
   "metadata": {},
   "source": [
    "## polymorphism"
   ]
  },
  {
   "cell_type": "code",
   "execution_count": 112,
   "id": "b35a5369",
   "metadata": {},
   "outputs": [],
   "source": [
    "class Elma():\n",
    "    def __init__(self,isim):\n",
    "        self.isim = isim\n",
    "        \n",
    "    def bilgiVer(self):\n",
    "        return self.isim + \" 100 kaloridir\""
   ]
  },
  {
   "cell_type": "code",
   "execution_count": 113,
   "id": "a6d6b6e2",
   "metadata": {},
   "outputs": [],
   "source": [
    "class Muz():\n",
    "    def __init__(self,isim):\n",
    "        self.isim = isim\n",
    "        \n",
    "    def bilgiVer(self):\n",
    "        return self.isim + \" 150 kaloridir\""
   ]
  },
  {
   "cell_type": "code",
   "execution_count": 114,
   "id": "f7d773b5",
   "metadata": {},
   "outputs": [],
   "source": [
    "elma = Elma(\"elma\")"
   ]
  },
  {
   "cell_type": "code",
   "execution_count": 115,
   "id": "03b872a4",
   "metadata": {},
   "outputs": [
    {
     "data": {
      "text/plain": [
       "'elma 100 kaloridir'"
      ]
     },
     "execution_count": 115,
     "metadata": {},
     "output_type": "execute_result"
    }
   ],
   "source": [
    "elma.bilgiVer()"
   ]
  },
  {
   "cell_type": "code",
   "execution_count": 116,
   "id": "ccf0d347",
   "metadata": {},
   "outputs": [],
   "source": [
    "muz = Muz(\"muz\")"
   ]
  },
  {
   "cell_type": "code",
   "execution_count": 117,
   "id": "9d0eff42",
   "metadata": {},
   "outputs": [
    {
     "data": {
      "text/plain": [
       "'muz 150 kaloridir'"
      ]
     },
     "execution_count": 117,
     "metadata": {},
     "output_type": "execute_result"
    }
   ],
   "source": [
    "muz.bilgiVer()"
   ]
  },
  {
   "cell_type": "code",
   "execution_count": 118,
   "id": "96d19997",
   "metadata": {},
   "outputs": [],
   "source": [
    "meyveListesi = [elma,muz]"
   ]
  },
  {
   "cell_type": "code",
   "execution_count": 119,
   "id": "6f71bc22",
   "metadata": {},
   "outputs": [
    {
     "name": "stdout",
     "output_type": "stream",
     "text": [
      "elma 100 kaloridir\n",
      "muz 150 kaloridir\n"
     ]
    }
   ],
   "source": [
    "for meyve in meyveListesi:\n",
    "    print(meyve.bilgiVer())"
   ]
  },
  {
   "cell_type": "code",
   "execution_count": 122,
   "id": "b4e2f7f7",
   "metadata": {},
   "outputs": [],
   "source": [
    "def bilgiAl(meyve):\n",
    "    print(meyve.bilgiVer())"
   ]
  },
  {
   "cell_type": "code",
   "execution_count": 123,
   "id": "459aa924",
   "metadata": {},
   "outputs": [
    {
     "name": "stdout",
     "output_type": "stream",
     "text": [
      "muz 150 kaloridir\n"
     ]
    }
   ],
   "source": [
    "bilgiAl(muz)"
   ]
  },
  {
   "cell_type": "code",
   "execution_count": 124,
   "id": "e6fab614",
   "metadata": {},
   "outputs": [
    {
     "name": "stdout",
     "output_type": "stream",
     "text": [
      "elma 100 kaloridir\n"
     ]
    }
   ],
   "source": [
    "bilgiAl(elma)"
   ]
  },
  {
   "cell_type": "code",
   "execution_count": null,
   "id": "01ac692e",
   "metadata": {},
   "outputs": [],
   "source": []
  }
 ],
 "metadata": {
  "kernelspec": {
   "display_name": "Python 3 (ipykernel)",
   "language": "python",
   "name": "python3"
  },
  "language_info": {
   "codemirror_mode": {
    "name": "ipython",
    "version": 3
   },
   "file_extension": ".py",
   "mimetype": "text/x-python",
   "name": "python",
   "nbconvert_exporter": "python",
   "pygments_lexer": "ipython3",
   "version": "3.11.5"
  }
 },
 "nbformat": 4,
 "nbformat_minor": 5
}
