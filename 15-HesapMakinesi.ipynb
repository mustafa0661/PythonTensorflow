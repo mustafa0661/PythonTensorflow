{
 "cells": [
  {
   "cell_type": "code",
   "execution_count": null,
   "id": "45f191b5",
   "metadata": {},
   "outputs": [],
   "source": [
    "def hesapMakinesi(num1,num2,islem):\n",
    "    if \"+\" in islem:\n",
    "        return num1 + num2\n",
    "    if \"-\" in islem:\n",
    "        return num1 - num2\n",
    "    if \"*\" in islem:\n",
    "        return num1 * num2\n",
    "    if \"/\" in islem:\n",
    "        return num1 / num2"
   ]
  },
  {
   "cell_type": "code",
   "execution_count": null,
   "id": "92d04dac",
   "metadata": {},
   "outputs": [],
   "source": [
    "hesapMakinesi(10,20,\"/\")"
   ]
  },
  {
   "cell_type": "code",
   "execution_count": null,
   "id": "e8dffa68",
   "metadata": {},
   "outputs": [
    {
     "name": "stdout",
     "output_type": "stream",
     "text": [
      "İlk sayıyı giriniz: 10\n",
      "İkinci sayıyı giriniz: 20\n",
      "İşleminizi seçiniz: +-*/a\n",
      "Lütfen şu işlemlerden birini seçiniz: +-*/\n",
      "Lütfen sayıları düzgün giriniz\n",
      "Lütfen sayıları düzgün giriniz\n"
     ]
    }
   ],
   "source": [
    "def hesapla(a,b,islem):\n",
    "    \n",
    "    if islem not in \"+-*/\":\n",
    "        return \"Lütfen şu işlemlerden birini seçiniz: +-*/\"\n",
    "    \n",
    "    if islem == \"+\":\n",
    "        return (str(a)+\" + \"+str(b) + \" = \" + str(a+b))\n",
    "    if islem == \"-\":\n",
    "        return (str(a)+\" - \"+str(b) + \" = \" + str(a-b))\n",
    "    if islem == \"*\":\n",
    "        return (str(a)+\" * \"+str(b) + \" = \" + str(a*b))\n",
    "    if islem == \"/\":\n",
    "        return (str(a)+\" / \"+str(b) + \" = \" + str(a/b))\n",
    "\n",
    "while True:\n",
    "    try:\n",
    "        a = int(input(\"İlk sayıyı giriniz: \"))\n",
    "        b = int(input(\"İkinci sayıyı giriniz: \"))\n",
    "        islem = input(\"İşleminizi seçiniz: +-*/\")\n",
    "        print(hesapla(a,b,islem))\n",
    "    except:\n",
    "        print(\"Lütfen sayıları düzgün giriniz\")"
   ]
  },
  {
   "cell_type": "code",
   "execution_count": null,
   "id": "46bd7e21",
   "metadata": {},
   "outputs": [],
   "source": []
  },
  {
   "cell_type": "code",
   "execution_count": null,
   "id": "6dd0af3d",
   "metadata": {},
   "outputs": [],
   "source": []
  },
  {
   "cell_type": "code",
   "execution_count": null,
   "id": "ea1ec4ee",
   "metadata": {},
   "outputs": [],
   "source": []
  }
 ],
 "metadata": {
  "kernelspec": {
   "display_name": "Python 3 (ipykernel)",
   "language": "python",
   "name": "python3"
  },
  "language_info": {
   "codemirror_mode": {
    "name": "ipython",
    "version": 3
   },
   "file_extension": ".py",
   "mimetype": "text/x-python",
   "name": "python",
   "nbconvert_exporter": "python",
   "pygments_lexer": "ipython3",
   "version": "3.11.5"
  }
 },
 "nbformat": 4,
 "nbformat_minor": 5
}
