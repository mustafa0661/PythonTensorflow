{
 "cells": [
  {
   "cell_type": "markdown",
   "id": "345e8a0f",
   "metadata": {},
   "source": [
    "##key-value Pairing (Anahtar kelime - değer eşelşmesi)"
   ]
  },
  {
   "cell_type": "code",
   "execution_count": 1,
   "id": "0c3f5388",
   "metadata": {},
   "outputs": [],
   "source": [
    "benimYemeklerim = [\"Elma\", \"Karpuz\", \"Muz\"]"
   ]
  },
  {
   "cell_type": "code",
   "execution_count": 2,
   "id": "2ce8d6e4",
   "metadata": {},
   "outputs": [],
   "source": [
    "benimKalorilerim = [100, 200, 300]"
   ]
  },
  {
   "cell_type": "code",
   "execution_count": 3,
   "id": "cf9fbf99",
   "metadata": {},
   "outputs": [
    {
     "data": {
      "text/plain": [
       "'Karpuz'"
      ]
     },
     "execution_count": 3,
     "metadata": {},
     "output_type": "execute_result"
    }
   ],
   "source": [
    "benimYemeklerim[1]"
   ]
  },
  {
   "cell_type": "code",
   "execution_count": 4,
   "id": "b7d46a0f",
   "metadata": {},
   "outputs": [
    {
     "data": {
      "text/plain": [
       "200"
      ]
     },
     "execution_count": 4,
     "metadata": {},
     "output_type": "execute_result"
    }
   ],
   "source": [
    "benimKalorilerim[1]"
   ]
  },
  {
   "cell_type": "code",
   "execution_count": 5,
   "id": "8aa0dae3",
   "metadata": {},
   "outputs": [],
   "source": [
    "benimSozluk = {\"anahtarkelime\" : \"deger\"}"
   ]
  },
  {
   "cell_type": "code",
   "execution_count": 6,
   "id": "6aac0752",
   "metadata": {},
   "outputs": [
    {
     "data": {
      "text/plain": [
       "dict"
      ]
     },
     "execution_count": 6,
     "metadata": {},
     "output_type": "execute_result"
    }
   ],
   "source": [
    "type(benimSozluk)"
   ]
  },
  {
   "cell_type": "code",
   "execution_count": 7,
   "id": "07f5f2cf",
   "metadata": {},
   "outputs": [
    {
     "data": {
      "text/plain": [
       "{'anahtarkelime': 'deger'}"
      ]
     },
     "execution_count": 7,
     "metadata": {},
     "output_type": "execute_result"
    }
   ],
   "source": [
    "benimSozluk"
   ]
  },
  {
   "cell_type": "code",
   "execution_count": 8,
   "id": "70251b83",
   "metadata": {},
   "outputs": [
    {
     "data": {
      "text/plain": [
       "'deger'"
      ]
     },
     "execution_count": 8,
     "metadata": {},
     "output_type": "execute_result"
    }
   ],
   "source": [
    "benimSozluk[\"anahtarkelime\"]"
   ]
  },
  {
   "cell_type": "code",
   "execution_count": 9,
   "id": "c67e151b",
   "metadata": {},
   "outputs": [],
   "source": [
    "benimYemekKaloriSozlugum = {\"Elma\" : 100, \"Karpuz\" : 200, \"Muz\" : 300}"
   ]
  },
  {
   "cell_type": "code",
   "execution_count": 10,
   "id": "9aa92fea",
   "metadata": {},
   "outputs": [
    {
     "data": {
      "text/plain": [
       "{'Elma': 100, 'Karpuz': 200, 'Muz': 300}"
      ]
     },
     "execution_count": 10,
     "metadata": {},
     "output_type": "execute_result"
    }
   ],
   "source": [
    "benimYemekKaloriSozlugum"
   ]
  },
  {
   "cell_type": "code",
   "execution_count": 12,
   "id": "b2884526",
   "metadata": {},
   "outputs": [
    {
     "data": {
      "text/plain": [
       "300"
      ]
     },
     "execution_count": 12,
     "metadata": {},
     "output_type": "execute_result"
    }
   ],
   "source": [
    "benimYemekKaloriSozlugum[\"Muz\"]"
   ]
  },
  {
   "cell_type": "code",
   "execution_count": 14,
   "id": "3d258798",
   "metadata": {},
   "outputs": [],
   "source": [
    "benimYemekKaloriSozlugum[\"Elma\"] = 200"
   ]
  },
  {
   "cell_type": "code",
   "execution_count": 15,
   "id": "b1962bfd",
   "metadata": {},
   "outputs": [
    {
     "data": {
      "text/plain": [
       "200"
      ]
     },
     "execution_count": 15,
     "metadata": {},
     "output_type": "execute_result"
    }
   ],
   "source": [
    "benimYemekKaloriSozlugum[\"Elma\"]"
   ]
  },
  {
   "cell_type": "code",
   "execution_count": 16,
   "id": "370531ae",
   "metadata": {},
   "outputs": [],
   "source": [
    "benimDegisikSozlugum = {1:\"atıl\", -2:\"atlas\"}"
   ]
  },
  {
   "cell_type": "code",
   "execution_count": 17,
   "id": "b368a6da",
   "metadata": {},
   "outputs": [],
   "source": [
    "yeniDictionary = {\"anahtar1\" : 100, \"anahtar2\" : [10,20,30,40,4.5,\"atıl\"],\"anahtar3\" : {\"anahtar9\" : 4}}"
   ]
  },
  {
   "cell_type": "code",
   "execution_count": 18,
   "id": "398d6d19",
   "metadata": {},
   "outputs": [
    {
     "data": {
      "text/plain": [
       "dict_keys(['anahtar1', 'anahtar2', 'anahtar3'])"
      ]
     },
     "execution_count": 18,
     "metadata": {},
     "output_type": "execute_result"
    }
   ],
   "source": [
    "yeniDictionary.keys()"
   ]
  },
  {
   "cell_type": "code",
   "execution_count": 19,
   "id": "6997b8bd",
   "metadata": {},
   "outputs": [
    {
     "data": {
      "text/plain": [
       "dict_keys"
      ]
     },
     "execution_count": 19,
     "metadata": {},
     "output_type": "execute_result"
    }
   ],
   "source": [
    "type(yeniDictionary.keys())"
   ]
  },
  {
   "cell_type": "code",
   "execution_count": 20,
   "id": "905c3111",
   "metadata": {},
   "outputs": [
    {
     "data": {
      "text/plain": [
       "dict_values([100, [10, 20, 30, 40, 4.5, 'atıl'], {'anahtar9': 4}])"
      ]
     },
     "execution_count": 20,
     "metadata": {},
     "output_type": "execute_result"
    }
   ],
   "source": [
    "yeniDictionary.values()"
   ]
  },
  {
   "cell_type": "code",
   "execution_count": 21,
   "id": "9a840355",
   "metadata": {},
   "outputs": [
    {
     "data": {
      "text/plain": [
       "dict_values"
      ]
     },
     "execution_count": 21,
     "metadata": {},
     "output_type": "execute_result"
    }
   ],
   "source": [
    "type(yeniDictionary.values())"
   ]
  },
  {
   "cell_type": "code",
   "execution_count": 26,
   "id": "5cef97ca",
   "metadata": {},
   "outputs": [
    {
     "data": {
      "text/plain": [
       "'atıl'"
      ]
     },
     "execution_count": 26,
     "metadata": {},
     "output_type": "execute_result"
    }
   ],
   "source": [
    "yeniDictionary[\"anahtar2\"][-1]"
   ]
  },
  {
   "cell_type": "code",
   "execution_count": 25,
   "id": "2ca87101",
   "metadata": {},
   "outputs": [
    {
     "data": {
      "text/plain": [
       "4"
      ]
     },
     "execution_count": 25,
     "metadata": {},
     "output_type": "execute_result"
    }
   ],
   "source": [
    "yeniDictionary[\"anahtar3\"][\"anahtar9\"]"
   ]
  },
  {
   "cell_type": "code",
   "execution_count": null,
   "id": "de5143a7",
   "metadata": {},
   "outputs": [],
   "source": []
  }
 ],
 "metadata": {
  "kernelspec": {
   "display_name": "Python 3 (ipykernel)",
   "language": "python",
   "name": "python3"
  },
  "language_info": {
   "codemirror_mode": {
    "name": "ipython",
    "version": 3
   },
   "file_extension": ".py",
   "mimetype": "text/x-python",
   "name": "python",
   "nbconvert_exporter": "python",
   "pygments_lexer": "ipython3",
   "version": "3.11.5"
  }
 },
 "nbformat": 4,
 "nbformat_minor": 5
}
